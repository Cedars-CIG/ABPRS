{
 "cells": [
  {
   "cell_type": "code",
   "execution_count": 1,
   "id": "d8583955",
   "metadata": {},
   "outputs": [
    {
     "name": "stderr",
     "output_type": "stream",
     "text": [
      "\n",
      "Attaching package: ‘dplyr’\n",
      "\n",
      "\n",
      "The following objects are masked from ‘package:stats’:\n",
      "\n",
      "    filter, lag\n",
      "\n",
      "\n",
      "The following objects are masked from ‘package:base’:\n",
      "\n",
      "    intersect, setdiff, setequal, union\n",
      "\n",
      "\n"
     ]
    }
   ],
   "source": [
    "library(dplyr)\n",
    "library(ROCR)"
   ]
  },
  {
   "cell_type": "markdown",
   "id": "1d64556a",
   "metadata": {},
   "source": [
    "**V3 define ABPRS on AoU:**\n",
    "$$\n",
    "ABPRS = \\beta^{AoU}\\cdot\\left[\\beta^{UKBB}_0 \\cdot PRS\\right] + \\beta^{AoU}_\\theta\\cdot\\left[\\sum_{i=1}^n \\beta^{UKBB}_i \\cdot f_{\\theta}(SNP_i)\\right]\n",
    "$$"
   ]
  },
  {
   "cell_type": "code",
   "execution_count": 37,
   "id": "10921b03",
   "metadata": {},
   "outputs": [],
   "source": [
    "pheno <- \"ldl\""
   ]
  },
  {
   "cell_type": "markdown",
   "id": "7373f278",
   "metadata": {},
   "source": [
    "# Functions"
   ]
  },
  {
   "cell_type": "code",
   "execution_count": 38,
   "id": "1d3d26c0",
   "metadata": {},
   "outputs": [],
   "source": [
    "m_func <- function(data, race_num, df_coef){\n",
    "    # filter race\n",
    "    data <- data[data$race == race_num, ]\n",
    "    \n",
    "    y <- data$y\n",
    "    X <- as.matrix(data[, -c(1,2,3)])\n",
    "    \n",
    "    df_X_names <- data.frame(var = colnames(X))\n",
    "    df_coef <- inner_join(df_coef, df_X_names, by=\"var\")\n",
    "\n",
    "    X_all <- X[, df_coef$var]\n",
    "    X_prs <- X_all[,1]\n",
    "    X_theta <- X_all[,-c(1)]\n",
    "    \n",
    "    m1 <- X_prs * df_coef$coef[1]\n",
    "    m2 <- X_theta %*% df_coef$coef[-1]\n",
    "    \n",
    "    return(list(m1, m2))\n",
    "}\n",
    "\n",
    "metric_func <- function(data, race_num, m1, m2){\n",
    "    \n",
    "    # discrete metric: AUC\n",
    "    # continuous metric: R-squared\n",
    "    data <- data[data$race == race_num, ]\n",
    "    data$m1 <- m1\n",
    "    data$m2 <- m2\n",
    "    \n",
    "    if (pheno %in% c(\"AD\", \"breast_cancer\", \"hypertension\", \"t2d\")){\n",
    "        mod1 <- glm(y ~ prs, data = data, family=\"binomial\")\n",
    "        mod2 <- glm(y ~ m1 + m2, data = data, family=\"binomial\")\n",
    "        \n",
    "        prediction <- prediction(predict(mod1, newdata=data, type=\"response\"), data$y)\n",
    "        mod1_metric <- performance(prediction,measure=\"auc\")@y.values[[1]]\n",
    "        \n",
    "        prediction <- prediction(predict(mod2, newdata=data, type=\"response\"), data$y)\n",
    "        mod2_metric <- performance(prediction,measure=\"auc\")@y.values[[1]]\n",
    "    } else {\n",
    "        mod1 <- glm(y ~ prs, data = data, family=\"gaussian\")\n",
    "        mod2 <- glm(y ~ m1 + m2, data = data, family=\"gaussian\")\n",
    "        \n",
    "        pred1 <- predict(mod1, newdata=data)\n",
    "        mod1_metric <- cor(data$y, pred1)^2\n",
    "        \n",
    "        pred2 <- predict(mod2, newdata=data)\n",
    "        mod2_metric <- cor(data$y, pred2)^2\n",
    "    }\n",
    "    df_rslt <- data.frame(external_PRS_metric=mod1_metric,\n",
    "                          AB_PRS_metric=mod2_metric,\n",
    "                          increase_percent=(mod2_metric-mod1_metric)/mod1_metric)\n",
    "    return(df_rslt)\n",
    "}\n",
    "  "
   ]
  },
  {
   "cell_type": "markdown",
   "id": "c87b304c",
   "metadata": {},
   "source": [
    "# Loading data"
   ]
  },
  {
   "cell_type": "code",
   "execution_count": 39,
   "id": "a0399931",
   "metadata": {},
   "outputs": [
    {
     "name": "stdout",
     "output_type": "stream",
     "text": [
      "      IID    prs\n",
      "1 1000004 5.3444\n",
      "2 1000033 5.4813\n",
      "3 1000039 5.5607\n",
      "4 1000042 5.0120\n",
      "5 1000045 4.5311\n",
      "6 1000059 4.8247\n"
     ]
    }
   ],
   "source": [
    "prs_dir <- paste0(\"/home/jupyter/workspaces/hypertensionukbb/AB_PRS_AoU/external_PRS/\",pheno,\"_external_PRS.csv\")\n",
    "data <- read.csv(prs_dir, header=T)\n",
    "print(head(data))"
   ]
  },
  {
   "cell_type": "code",
   "execution_count": 40,
   "id": "8b8152f8",
   "metadata": {},
   "outputs": [
    {
     "name": "stdout",
     "output_type": "stream",
     "text": [
      "[1] \"chr 1 start...\"\n",
      "[1] \"chr 2 start...\"\n",
      "[1] \"chr 3 start...\"\n",
      "[1] \"chr 4 start...\"\n",
      "[1] \"chr 5 start...\"\n",
      "[1] \"chr 6 start...\"\n",
      "[1] \"chr 7 start...\"\n",
      "[1] \"chr 8 start...\"\n",
      "[1] \"chr 9 start...\"\n",
      "[1] \"chr 10 start...\"\n",
      "[1] \"chr 11 start...\"\n",
      "[1] \"chr 12 start...\"\n",
      "[1] \"chr 13 start...\"\n",
      "[1] \"chr 14 start...\"\n",
      "[1] \"chr 15 start...\"\n",
      "[1] \"chr 16 start...\"\n",
      "[1] \"chr 17 start...\"\n",
      "[1] \"chr 18 start...\"\n",
      "[1] \"chr 19 start...\"\n",
      "[1] \"chr 20 start...\"\n",
      "[1] \"chr 21 start...\"\n",
      "[1] \"chr 22 start...\"\n",
      "      IID    prs rs11591147   rs34791230 rs114952518\n",
      "1 1000004 5.3444          0 -0.009249335           0\n",
      "2 1000033 5.4813          0  0.000000000           0\n",
      "3 1000039 5.5607          0 -0.009249335           0\n",
      "4 1000042 5.0120          0  0.000000000           0\n",
      "5 1000045 4.5311          0 -0.031017751           0\n",
      "6 1000059 4.8247          0 -0.009249335           0\n"
     ]
    }
   ],
   "source": [
    "for (i in 1:22){\n",
    "    print(paste(\"chr\",i,\"start...\"))\n",
    "    theta_dir <- paste0(\"/home/jupyter/workspaces/hypertensionukbb/AB_PRS_AoU/theta_SNP/\",pheno,\"_chr\",i,\"_theta\")\n",
    "    \n",
    "    if (file.exists(theta_dir)){\n",
    "        theta <- read.table(theta_dir, header=T)\n",
    "        data <- cbind(data, theta)\n",
    "    }\n",
    "}\n",
    "\n",
    "print(data[1:6, 1:5])"
   ]
  },
  {
   "cell_type": "code",
   "execution_count": 41,
   "id": "3e7f98e1",
   "metadata": {},
   "outputs": [
    {
     "name": "stdout",
     "output_type": "stream",
     "text": [
      "[1] \"loading phenotype done.\"\n"
     ]
    }
   ],
   "source": [
    "pheno_dir <- \"/home/jupyter/workspaces/hypertensionukbb/AB_PRS_AoU/AoU_phenotype/phenotype.csv\"\n",
    "\n",
    "if (pheno == \"breast_cancer\"){\n",
    "    cols_select <- c(\"IID\", \"gender\", \"race\", pheno)\n",
    "    df_pheno <- read.csv(pheno_dir, header=T) %>% select(any_of(cols_select))\n",
    "    colnames(df_pheno) <- c(\"IID\", \"gender\", \"race\", \"y\")\n",
    "    print(dim(df_pheno))\n",
    "    ## only select female\n",
    "    df_pheno <- df_pheno[df_pheno$gender == 1,]\n",
    "    print(dim(df_pheno))\n",
    "    df_pheno <- df_pheno %>% select(any_of(c(\"IID\", \"race\", \"y\")))\n",
    "} else{\n",
    "    cols_select <- c(\"IID\", \"race\", pheno)\n",
    "    df_pheno <- read.csv(pheno_dir, header=T) %>% select(any_of(cols_select))\n",
    "    colnames(df_pheno) <- c(\"IID\", \"race\", \"y\")\n",
    "}\n",
    "print(\"loading phenotype done.\")"
   ]
  },
  {
   "cell_type": "code",
   "execution_count": 42,
   "id": "16b93a28",
   "metadata": {},
   "outputs": [
    {
     "name": "stdout",
     "output_type": "stream",
     "text": [
      "  phenotype   min     max\n",
      "4       ldl 4.788 176.346\n",
      "[1] \"number of participants, before filter: 245394\"\n",
      "[1] \"number of participants, after filter: 100403\"\n"
     ]
    }
   ],
   "source": [
    "## filter continuous phenotype\n",
    "if (pheno %in% c(\"bmi\", \"cholesterol\", \"hdl\", \"ldl\")){\n",
    "    dir <- \"/home/jupyter/workspaces/hypertensionukbb/AB_PRS_AoU/AoU_phenotype/continuous_phenotype_range.csv\"\n",
    "    df_range <- read.csv(dir, header=T)\n",
    "    df_range <- df_range[df_range$phenotype == pheno,]\n",
    "    print(df_range)\n",
    "    # filter\n",
    "    print(paste(\"number of participants, before filter:\", nrow(df_pheno)))\n",
    "    df_pheno <- df_pheno[(df_pheno$y >= df_range$min)&(df_pheno$y <= df_range$max),]\n",
    "    print(paste(\"number of participants, after filter:\", nrow(df_pheno)))\n",
    "} else {\n",
    "    print(\"discrete phenotype!\")\n",
    "}"
   ]
  },
  {
   "cell_type": "code",
   "execution_count": 43,
   "id": "e20712fd",
   "metadata": {},
   "outputs": [
    {
     "name": "stdout",
     "output_type": "stream",
     "text": [
      "[1] 100403    950\n",
      "      IID race   y    prs rs11591147   rs34791230 rs114952518\n",
      "1 1000004    2 135 5.3444          0 -0.009249335           0\n",
      "2 1000042    1  83 5.0120          0  0.000000000           0\n",
      "3 1000091    2 123 5.7225          0 -0.009249335           0\n",
      "4 1000095    2  89 5.1961          0 -0.009249335           0\n",
      "5 1000104    6  90 4.3759          0  0.000000000           0\n",
      "6 1000109    6 159 5.0589          0  0.000000000           0\n"
     ]
    }
   ],
   "source": [
    "## inner_join phenotype and genotype\n",
    "data <- inner_join(df_pheno, data, by=\"IID\")\n",
    "print(dim(data))\n",
    "print(data[1:6, 1:7])"
   ]
  },
  {
   "cell_type": "code",
   "execution_count": 44,
   "id": "90da2832",
   "metadata": {},
   "outputs": [
    {
     "name": "stdout",
     "output_type": "stream",
     "text": [
      "          var       coef\n",
      "1   intercept -0.4136903\n",
      "2         prs  0.2258363\n",
      "3  rs11591147  1.1872680\n",
      "4  rs34791230  0.8282514\n",
      "5 rs114952518  0.3667169\n",
      "6  rs72660960  0.1822667\n"
     ]
    }
   ],
   "source": [
    "coef_dir <- paste0(\"/home/jupyter/workspaces/hypertensionukbb/AB_PRS_AoU/UKBB_glm_model/\",pheno,\"_glm_model.RData\")\n",
    "load(coef_dir)\n",
    "print(head(coef_mod2))"
   ]
  },
  {
   "cell_type": "markdown",
   "id": "746ecc27",
   "metadata": {},
   "source": [
    "# Fit AB-PRS model"
   ]
  },
  {
   "cell_type": "raw",
   "id": "d0583055",
   "metadata": {},
   "source": [
    "# if \"Female\":\n",
    "#     gender = 1\n",
    "# elif \"Male\":\n",
    "#     gender = 2\n",
    "# else:\n",
    "#     gender = 3\n",
    "\n",
    "# \"Black or African American\":\n",
    "#     race = 1\n",
    "# \"White\":\n",
    "#     race = 2\n",
    "# \"Asian\":\n",
    "#     race = 3\n",
    "# \"Native Hawaiian or Other Pacific Islander\":\n",
    "#     race = 4\n",
    "# \"Middle Eastern or North African\":\n",
    "#     race = 5\n",
    "#  others race 6"
   ]
  },
  {
   "cell_type": "code",
   "execution_count": 45,
   "id": "6b8632cf",
   "metadata": {
    "scrolled": false
   },
   "outputs": [
    {
     "data": {
      "text/html": [
       "<table class=\"dataframe\">\n",
       "<caption>A data.frame: 6 × 4</caption>\n",
       "<thead>\n",
       "\t<tr><th scope=col>Race</th><th scope=col>external_PRS_metric</th><th scope=col>AB_PRS_metric</th><th scope=col>increase_percent</th></tr>\n",
       "\t<tr><th scope=col>&lt;chr&gt;</th><th scope=col>&lt;dbl&gt;</th><th scope=col>&lt;dbl&gt;</th><th scope=col>&lt;dbl&gt;</th></tr>\n",
       "</thead>\n",
       "<tbody>\n",
       "\t<tr><td>Black                </td><td>9.723439e-04</td><td>0.01574373</td><td> 15.19152322</td></tr>\n",
       "\t<tr><td>White                </td><td>2.720779e-03</td><td>0.02375494</td><td>  7.73093201</td></tr>\n",
       "\t<tr><td>Asian                </td><td>2.589643e-04</td><td>0.02524544</td><td> 96.48616292</td></tr>\n",
       "\t<tr><td>Hawaiian_Islander    </td><td>5.294342e-02</td><td>0.05791847</td><td>  0.09396914</td></tr>\n",
       "\t<tr><td>Mid_Eest_North_Africa</td><td>3.215415e-05</td><td>0.02440627</td><td>758.03946568</td></tr>\n",
       "\t<tr><td>other                </td><td>8.927539e-05</td><td>0.01713982</td><td>190.98819679</td></tr>\n",
       "</tbody>\n",
       "</table>\n"
      ],
      "text/latex": [
       "A data.frame: 6 × 4\n",
       "\\begin{tabular}{llll}\n",
       " Race & external\\_PRS\\_metric & AB\\_PRS\\_metric & increase\\_percent\\\\\n",
       " <chr> & <dbl> & <dbl> & <dbl>\\\\\n",
       "\\hline\n",
       "\t Black                 & 9.723439e-04 & 0.01574373 &  15.19152322\\\\\n",
       "\t White                 & 2.720779e-03 & 0.02375494 &   7.73093201\\\\\n",
       "\t Asian                 & 2.589643e-04 & 0.02524544 &  96.48616292\\\\\n",
       "\t Hawaiian\\_Islander     & 5.294342e-02 & 0.05791847 &   0.09396914\\\\\n",
       "\t Mid\\_Eest\\_North\\_Africa & 3.215415e-05 & 0.02440627 & 758.03946568\\\\\n",
       "\t other                 & 8.927539e-05 & 0.01713982 & 190.98819679\\\\\n",
       "\\end{tabular}\n"
      ],
      "text/markdown": [
       "\n",
       "A data.frame: 6 × 4\n",
       "\n",
       "| Race &lt;chr&gt; | external_PRS_metric &lt;dbl&gt; | AB_PRS_metric &lt;dbl&gt; | increase_percent &lt;dbl&gt; |\n",
       "|---|---|---|---|\n",
       "| Black                 | 9.723439e-04 | 0.01574373 |  15.19152322 |\n",
       "| White                 | 2.720779e-03 | 0.02375494 |   7.73093201 |\n",
       "| Asian                 | 2.589643e-04 | 0.02524544 |  96.48616292 |\n",
       "| Hawaiian_Islander     | 5.294342e-02 | 0.05791847 |   0.09396914 |\n",
       "| Mid_Eest_North_Africa | 3.215415e-05 | 0.02440627 | 758.03946568 |\n",
       "| other                 | 8.927539e-05 | 0.01713982 | 190.98819679 |\n",
       "\n"
      ],
      "text/plain": [
       "  Race                  external_PRS_metric AB_PRS_metric increase_percent\n",
       "1 Black                 9.723439e-04        0.01574373     15.19152322    \n",
       "2 White                 2.720779e-03        0.02375494      7.73093201    \n",
       "3 Asian                 2.589643e-04        0.02524544     96.48616292    \n",
       "4 Hawaiian_Islander     5.294342e-02        0.05791847      0.09396914    \n",
       "5 Mid_Eest_North_Africa 3.215415e-05        0.02440627    758.03946568    \n",
       "6 other                 8.927539e-05        0.01713982    190.98819679    "
      ]
     },
     "metadata": {},
     "output_type": "display_data"
    }
   ],
   "source": [
    "race_vec <- c(\"Black\", \"White\", \"Asian\", \"Hawaiian_Islander\", \"Mid_Eest_North_Africa\", \"other\")\n",
    "df_race <- data.frame(Race=race_vec)\n",
    "\n",
    "rslt <- m_func(data, 1, coef_mod2)\n",
    "df_rslt <- metric_func(data, 1, rslt[[1]], rslt[[2]])\n",
    "for (i in 2:6){\n",
    "    rslt <- m_func(data, i, coef_mod2)\n",
    "    temp <- metric_func(data, i, rslt[[1]], rslt[[2]])\n",
    "    df_rslt <- rbind(df_rslt, temp)\n",
    "}\n",
    "df_rslt <- cbind(df_race, df_rslt)\n",
    "\n",
    "df_rslt\n",
    "rslt_dir <- paste0(\"/home/jupyter/workspaces/hypertensionukbb/AB_PRS_AoU/AB_PRS_result/\",pheno,\"_V3_result.csv\")\n",
    "write.csv(df_rslt, rslt_dir, row.names = FALSE)"
   ]
  },
  {
   "cell_type": "code",
   "execution_count": null,
   "id": "4c731fec",
   "metadata": {},
   "outputs": [],
   "source": []
  }
 ],
 "metadata": {
  "kernelspec": {
   "display_name": "R",
   "language": "R",
   "name": "ir"
  },
  "language_info": {
   "codemirror_mode": "r",
   "file_extension": ".r",
   "mimetype": "text/x-r-source",
   "name": "R",
   "pygments_lexer": "r",
   "version": "4.4.0"
  },
  "toc": {
   "base_numbering": 1,
   "nav_menu": {},
   "number_sections": true,
   "sideBar": true,
   "skip_h1_title": false,
   "title_cell": "Table of Contents",
   "title_sidebar": "Contents",
   "toc_cell": false,
   "toc_position": {},
   "toc_section_display": true,
   "toc_window_display": false
  }
 },
 "nbformat": 4,
 "nbformat_minor": 5
}
