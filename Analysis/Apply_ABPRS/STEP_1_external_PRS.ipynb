{
 "cells": [
  {
   "cell_type": "code",
   "execution_count": 1,
   "id": "d8583955",
   "metadata": {},
   "outputs": [
    {
     "name": "stderr",
     "output_type": "stream",
     "text": [
      "\n",
      "Attaching package: ‘dplyr’\n",
      "\n",
      "\n",
      "The following objects are masked from ‘package:stats’:\n",
      "\n",
      "    filter, lag\n",
      "\n",
      "\n",
      "The following objects are masked from ‘package:base’:\n",
      "\n",
      "    intersect, setdiff, setequal, union\n",
      "\n",
      "\n"
     ]
    }
   ],
   "source": [
    "library(dplyr)"
   ]
  },
  {
   "cell_type": "code",
   "execution_count": 2,
   "id": "e5a7e162",
   "metadata": {},
   "outputs": [
    {
     "data": {
      "text/html": [
       "'/home/jupyter/workspaces/hypertensionukbb/AB_PRS_AoU'"
      ],
      "text/latex": [
       "'/home/jupyter/workspaces/hypertensionukbb/AB\\_PRS\\_AoU'"
      ],
      "text/markdown": [
       "'/home/jupyter/workspaces/hypertensionukbb/AB_PRS_AoU'"
      ],
      "text/plain": [
       "[1] \"/home/jupyter/workspaces/hypertensionukbb/AB_PRS_AoU\""
      ]
     },
     "metadata": {},
     "output_type": "display_data"
    }
   ],
   "source": [
    "# print working directory\n",
    "getwd()"
   ]
  },
  {
   "cell_type": "code",
   "execution_count": 5,
   "id": "10921b03",
   "metadata": {},
   "outputs": [],
   "source": [
    "pheno <- \"hypertension\""
   ]
  },
  {
   "cell_type": "markdown",
   "id": "c87b304c",
   "metadata": {},
   "source": [
    "# Loading GWAS"
   ]
  },
  {
   "cell_type": "code",
   "execution_count": 6,
   "id": "a0399931",
   "metadata": {},
   "outputs": [
    {
     "name": "stdout",
     "output_type": "stream",
     "text": [
      "  chr  position         SNP effect_allele alt_allele        beta\n",
      "1   1  10796866    rs880315             T          C -0.03027034\n",
      "2   1  11880731 rs149764880             G          T  0.03648623\n",
      "3   1 113046879   rs3790604             C          A -0.04481796\n",
      "4   1  11901694  rs41275502             G          A  0.05016358\n",
      "5   1  11906609  rs12744433             C          T  0.04266361\n",
      "6   1  11854476   rs1801131             T          G  0.02216711\n"
     ]
    }
   ],
   "source": [
    "# copy the SNP list from cedars server\n",
    "# create empty .txt file, paste in the .txt file (save and delete the extension \".txt\")\n",
    "# read GWAS in \n",
    "GWAS_dir <- paste0(\"/home/jupyter/workspaces/hypertensionukbb/AB_PRS_AoU/external_GWAS/\",pheno,\"_external_GWAS\")\n",
    "GWAS <- read.table(GWAS_dir, header=T)\n",
    "print(head(GWAS))"
   ]
  },
  {
   "cell_type": "markdown",
   "id": "746ecc27",
   "metadata": {},
   "source": [
    "# PRS calculation"
   ]
  },
  {
   "cell_type": "code",
   "execution_count": 10,
   "id": "e61df71b",
   "metadata": {},
   "outputs": [],
   "source": [
    "func_SNP_swap <- function(vec){\n",
    "    # swap 0 and 2 in .raw\n",
    "    vec[vec==0] <- 9\n",
    "    vec[vec==2] <- 0\n",
    "    vec[vec==9] <- 2\n",
    "}\n",
    "\n",
    "func_process_raw <- function(raw, GWAS, SNP_complete){\n",
    "    ## replace NA with 0\n",
    "    raw <- as.matrix(raw)\n",
    "    raw[is.na(raw)] <- 0\n",
    "    colnames(raw) <- SNP_complete$SNP\n",
    "\n",
    "    ## check mis-matched effective allele\n",
    "    SNP_select <- inner_join(GWAS, SNP_complete, by=\"SNP\")\n",
    "    SNP_select$match <- (SNP_select$effect_allele == SNP_select$effect_AoU)\n",
    "\n",
    "    ## select SNPs from .raw\n",
    "    raw_select <- raw[, SNP_select$SNP]\n",
    "  \n",
    "    if (ncol(raw_select) > 0){\n",
    "      for (i in ncol(raw_select)){\n",
    "        # if effective allele mis-matched, swap 0 and 2\n",
    "        if (!SNP_select$match[i]) {\n",
    "          raw_select[,i] <- func_SNP_swap(raw_select[,i])\n",
    "        }\n",
    "      }\n",
    "      return(list(raw_select, SNP_select))\n",
    "    } else {\n",
    "      return(list(raw_select, SNP_select))\n",
    "    }\n",
    "}\n",
    "\n",
    "func_prs <- function(rslt){\n",
    "    raw <- rslt[[1]]\n",
    "    gwas <- rslt[[2]]\n",
    "    prs <- raw %*% gwas$beta\n",
    "    return(prs)\n",
    "}"
   ]
  },
  {
   "cell_type": "code",
   "execution_count": 11,
   "id": "06c756b6",
   "metadata": {},
   "outputs": [
    {
     "name": "stdout",
     "output_type": "stream",
     "text": [
      "[1] \"chr 1 start...\"\n",
      "[1] \"chr 2 start...\"\n",
      "[1] \"chr 3 start...\"\n",
      "[1] \"chr 4 start...\"\n",
      "[1] \"chr 5 start...\"\n",
      "[1] \"chr 6 start...\"\n",
      "[1] \"chr 7 start...\"\n",
      "[1] \"chr 8 start...\"\n",
      "[1] \"chr 9 start...\"\n",
      "[1] \"chr 10 start...\"\n",
      "[1] \"chr 11 start...\"\n",
      "[1] \"chr 12 start...\"\n",
      "[1] \"chr 13 start...\"\n",
      "[1] \"chr 14 start...\"\n",
      "[1] \"chr 15 start...\"\n",
      "[1] \"chr 16 start...\"\n",
      "[1] \"chr 17 start...\"\n",
      "[1] \"chr 18 start...\"\n",
      "[1] \"chr 19 start...\"\n",
      "[1] \"chr 20 start...\"\n",
      "[1] \"chr 21 start...\"\n",
      "[1] \"chr 22 start...\"\n"
     ]
    }
   ],
   "source": [
    "print(paste(\"chr\",1,\"start...\"))\n",
    "# read chr_1.raw\n",
    "raw_dir <- paste0(\"/home/jupyter/workspaces/hypertensionukbb/Version2/mainFiles/chr\",1,\"_small.raw\")\n",
    "raw <- read.table(raw_dir, header=T)\n",
    "IID <- raw[,2]\n",
    "raw <- raw[,-c(1,2,3,4,5,6)]\n",
    "## get the SNP list of .raw of the AoU\n",
    "SNP_complete <- data.frame(SNP = gsub(\"_.*\",\"\",colnames(raw)),\n",
    "                           effect_AoU = gsub(\".*_\",\"\",colnames(raw)))\n",
    "rslt <- func_process_raw(raw, GWAS, SNP_complete)\n",
    "prs <- func_prs(rslt)\n",
    "\n",
    "for (i in 2:22){\n",
    "    print(paste(\"chr\",i,\"start...\"))\n",
    "    # read chr_i.raw\n",
    "    raw_dir <- paste0(\"/home/jupyter/workspaces/hypertensionukbb/Version2/mainFiles/chr\",i,\"_small.raw\")\n",
    "    raw <- read.table(raw_dir, header=T)\n",
    "    raw <- raw[,-c(1,2,3,4,5,6)]\n",
    "    ## get the SNP list of .raw of the AoU\n",
    "    SNP_complete <- data.frame(SNP = gsub(\"_.*\",\"\",colnames(raw)),\n",
    "                               effect_AoU = gsub(\".*_\",\"\",colnames(raw)))\n",
    "    rslt <- func_process_raw(raw, GWAS, SNP_complete)\n",
    "    \n",
    "    ## if there are selected SNPs in chr_i\n",
    "    if (nrow(rslt[[2]]) > 0){\n",
    "        prs_temp <- func_prs(rslt)\n",
    "        prs <- prs + prs_temp\n",
    "    } \n",
    "}"
   ]
  },
  {
   "cell_type": "code",
   "execution_count": 13,
   "id": "6b8632cf",
   "metadata": {},
   "outputs": [
    {
     "name": "stdout",
     "output_type": "stream",
     "text": [
      "[1] 245394      2\n",
      "      IID        prs\n",
      "1 1000004  0.2972681\n",
      "2 1000033 -0.5614180\n",
      "3 1000039 -0.1817284\n",
      "4 1000042 -0.7456061\n",
      "5 1000045 -0.5583750\n",
      "6 1000059 -0.6431872\n"
     ]
    }
   ],
   "source": [
    "## save prs dataframe\n",
    "df_rslt <- data.frame(IID=IID, prs=prs)\n",
    "print(dim(df_rslt))\n",
    "print(head(df_rslt))\n",
    "\n",
    "prs_dir <- paste0(\"/home/jupyter/workspaces/hypertensionukbb/AB_PRS_AoU/external_PRS/\",pheno,\"_external_PRS.csv\")\n",
    "write.csv(df_rslt, prs_dir, row.names = FALSE)"
   ]
  },
  {
   "cell_type": "code",
   "execution_count": null,
   "id": "ffea9e89",
   "metadata": {},
   "outputs": [],
   "source": []
  }
 ],
 "metadata": {
  "kernelspec": {
   "display_name": "R",
   "language": "R",
   "name": "ir"
  },
  "language_info": {
   "codemirror_mode": "r",
   "file_extension": ".r",
   "mimetype": "text/x-r-source",
   "name": "R",
   "pygments_lexer": "r",
   "version": "4.4.0"
  },
  "toc": {
   "base_numbering": 1,
   "nav_menu": {},
   "number_sections": true,
   "sideBar": true,
   "skip_h1_title": false,
   "title_cell": "Table of Contents",
   "title_sidebar": "Contents",
   "toc_cell": false,
   "toc_position": {},
   "toc_section_display": true,
   "toc_window_display": false
  }
 },
 "nbformat": 4,
 "nbformat_minor": 5
}
