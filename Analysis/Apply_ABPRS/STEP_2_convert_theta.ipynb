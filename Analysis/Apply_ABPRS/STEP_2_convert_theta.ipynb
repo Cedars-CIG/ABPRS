{
 "cells": [
  {
   "cell_type": "code",
   "execution_count": 3,
   "id": "90fc979f",
   "metadata": {
    "vscode": {
     "languageId": "r"
    }
   },
   "outputs": [
    {
     "name": "stderr",
     "output_type": "stream",
     "text": [
      "\n",
      "Attaching package: ‘dplyr’\n",
      "\n",
      "\n",
      "The following objects are masked from ‘package:stats’:\n",
      "\n",
      "    filter, lag\n",
      "\n",
      "\n",
      "The following objects are masked from ‘package:base’:\n",
      "\n",
      "    intersect, setdiff, setequal, union\n",
      "\n",
      "\n"
     ]
    }
   ],
   "source": [
    "library(dplyr)"
   ]
  },
  {
   "cell_type": "code",
   "execution_count": 4,
   "id": "ab9ebfb6",
   "metadata": {
    "vscode": {
     "languageId": "r"
    }
   },
   "outputs": [],
   "source": [
    "pheno <- \"hypertension\""
   ]
  },
  {
   "cell_type": "markdown",
   "id": "22662c1b",
   "metadata": {},
   "source": [
    "# Functions"
   ]
  },
  {
   "cell_type": "markdown",
   "id": "7833cf6d",
   "metadata": {},
   "source": [
    "## functions for loading selected SNP"
   ]
  },
  {
   "cell_type": "code",
   "execution_count": 14,
   "id": "96bffce1",
   "metadata": {
    "vscode": {
     "languageId": "r"
    }
   },
   "outputs": [],
   "source": [
    "func_SNP_swap <- function(vec){\n",
    "    # swap 0 and 2 in .raw\n",
    "    vec[vec==0] <- 9\n",
    "    vec[vec==2] <- 0\n",
    "    vec[vec==9] <- 2\n",
    "}\n",
    "\n",
    "func_process_raw <- function(raw, SNP_list, SNP_complete){\n",
    "    ## replace NA with 0\n",
    "    raw <- as.matrix(raw)\n",
    "    raw[is.na(raw)] <- 0\n",
    "    colnames(raw) <- SNP_complete$SNP\n",
    "\n",
    "    ## check mis-matched effective allele\n",
    "    SNP_select <- inner_join(SNP_list, SNP_complete, by=\"SNP\")\n",
    "    SNP_select$match <- (SNP_select$effect_allele == SNP_select$effect_AoU)\n",
    "\n",
    "    ## select SNPs from .raw\n",
    "    raw_select <- raw[, SNP_select$SNP]\n",
    "  \n",
    "    if (nrow(SNP_select) > 0){\n",
    "      for (i in ncol(raw_select)){\n",
    "        # if effective allele mis-matched, swap 0 and 2\n",
    "        if (!SNP_select$match[i]) {\n",
    "          raw_select[,i] <- func_SNP_swap(raw_select[,i])\n",
    "        }\n",
    "      }\n",
    "      if (nrow(SNP_select) == 1){\n",
    "          ## if only one SNP selected\n",
    "              ## force the vector to be column matrix\n",
    "          raw_select <- matrix(raw_select, ncol=1)\n",
    "          colnames(raw_select) <- SNP_select$SNP[1]\n",
    "      }\n",
    "      return(raw_select)\n",
    "    } else {\n",
    "      return(NULL)\n",
    "    }\n",
    "}"
   ]
  },
  {
   "cell_type": "markdown",
   "id": "5422a8cf",
   "metadata": {},
   "source": [
    "## functions for converting theta "
   ]
  },
  {
   "cell_type": "code",
   "execution_count": 6,
   "id": "a126c783",
   "metadata": {
    "vscode": {
     "languageId": "r"
    }
   },
   "outputs": [],
   "source": [
    "convert_theta <- function(geno, betas_mat){\n",
    "  # for (i in 1:ncol(geno)){\n",
    "  #   geno[,i] <- ifelse(geno[,i] == 0, 0,\n",
    "  #                      ifelse(geno[,i] == 1, betas_mat[i,2], betas_mat[i,3]))\n",
    "  # }\n",
    "  geno<-t(t(I(geno==1))*betas_mat$beta1+t(I(geno==2))*betas_mat$beta2)\n",
    "  return(geno)\n",
    "}"
   ]
  },
  {
   "cell_type": "markdown",
   "id": "e1b23212",
   "metadata": {},
   "source": [
    "# Load raw and convert theta (for each chr)"
   ]
  },
  {
   "cell_type": "code",
   "execution_count": 16,
   "id": "90253b34",
   "metadata": {
    "vscode": {
     "languageId": "r"
    }
   },
   "outputs": [
    {
     "name": "stdout",
     "output_type": "stream",
     "text": [
      "  chr  position         SNP effect_allele alt_allele\n",
      "1   1  10799577  rs12046278             C          T\n",
      "2   1  27042706 rs566260414             G          A\n",
      "3   1 112344367    rs631037             T          C\n",
      "4   1 113044328  rs10776752             T          G\n",
      "5   1 152932031   rs6587713             G          A\n",
      "6   1 201783682   rs2820290             G          A\n",
      "          SNP       beta1       beta2\n",
      "1  rs12046278  0.03316409  0.10024643\n",
      "2 rs566260414  0.05209848  0.16483387\n",
      "3    rs631037  0.03820311  0.04471653\n",
      "4  rs10776752  0.04634664  0.16209420\n",
      "5   rs6587713  0.04068713 -0.03985691\n",
      "6   rs2820290 -0.01516441 -0.06268501\n",
      "[1] \"chr 1 start...\"\n",
      "[1] \"chr 2 start...\"\n",
      "[1] \"chr 3 start...\"\n",
      "[1] \"chr 4 start...\"\n",
      "[1] \"chr 5 start...\"\n",
      "[1] \"chr 6 start...\"\n",
      "[1] \"chr 7 start...\"\n",
      "[1] \"chr 8 start...\"\n",
      "[1] \"chr 9 start...\"\n",
      "[1] \"chr 10 start...\"\n",
      "[1] \"chr 11 start...\"\n",
      "[1] \"chr 12 start...\"\n",
      "[1] \"chr 13 start...\"\n",
      "[1] \"chr 14 start...\"\n",
      "[1] \"chr 15 start...\"\n",
      "[1] \"chr 16 start...\"\n",
      "[1] \"chr 17 start...\"\n",
      "[1] \"chr 18 start...\"\n",
      "[1] \"chr 19 start...\"\n",
      "[1] \"chr 20 start...\"\n",
      "[1] \"chr 21 start...\"\n",
      "[1] \"chr 22 start...\"\n"
     ]
    }
   ],
   "source": [
    "SNP_dir <- paste0(\"/home/jupyter/workspaces/hypertensionukbb/AB_PRS_AoU/selected_SNP/\",pheno,\"_SNP_list\")\n",
    "SNP_list <- read.table(SNP_dir, header=T)\n",
    "print(head(SNP_list))\n",
    "\n",
    "betas_dir <- paste0(\"/home/jupyter/workspaces/hypertensionukbb/AB_PRS_AoU/selected_SNP/\",pheno,\"_betas_mat\")\n",
    "betas_mat <- read.table(betas_dir, header=T)\n",
    "print(head(betas_mat))\n",
    "\n",
    "for (i in 1:22){\n",
    "    print(paste(\"chr\",i,\"start...\"))\n",
    "    # read chr_i.raw\n",
    "    raw_dir <- paste0(\"/home/jupyter/workspaces/hypertensionukbb/Version2/mainFiles/chr\",i,\"_small.raw\")\n",
    "    raw <- read.table(raw_dir, header=T)\n",
    "    IID <- raw[,2]\n",
    "    raw <- raw[,-c(1,2,3,4,5,6)]\n",
    "    ## get the SNP list of .raw of the AoU\n",
    "    SNP_complete <- data.frame(SNP = gsub(\"_.*\",\"\",colnames(raw)),\n",
    "                               effect_AoU = gsub(\".*_\",\"\",colnames(raw)))\n",
    "    ## process .raw\n",
    "    raw <- func_process_raw(raw, SNP_list, SNP_complete)\n",
    "    \n",
    "    ## if there are selected SNPs in chr_i, convert and save theta\n",
    "    if (!is.null(raw)){\n",
    "        ## convert theta chr_i\n",
    "        df_selected <- data.frame(SNP=colnames(raw))\n",
    "        betas_mat_temp <- inner_join(df_selected, betas_mat, by=\"SNP\")\n",
    "        theta <- convert_theta(raw, betas_mat_temp)\n",
    "        \n",
    "        ## save theta chr_i\n",
    "        theta_dir <- paste0(\"/home/jupyter/workspaces/hypertensionukbb/AB_PRS_AoU/theta_SNP/\",pheno,\"_chr\",i,\"_theta\")\n",
    "        write.table(theta, theta_dir,quote=F,row.names=F,col.names=T)\n",
    "    }\n",
    "}"
   ]
  },
  {
   "cell_type": "code",
   "execution_count": null,
   "id": "202bfa55",
   "metadata": {
    "vscode": {
     "languageId": "r"
    }
   },
   "outputs": [],
   "source": []
  }
 ],
 "metadata": {
  "kernelspec": {
   "display_name": "R [conda env:root] *",
   "language": "R",
   "name": "conda-root-r"
  },
  "language_info": {
   "codemirror_mode": "r",
   "file_extension": ".r",
   "mimetype": "text/x-r-source",
   "name": "R",
   "pygments_lexer": "r",
   "version": "4.4.0"
  },
  "toc": {
   "base_numbering": 1,
   "nav_menu": {},
   "number_sections": true,
   "sideBar": true,
   "skip_h1_title": false,
   "title_cell": "Table of Contents",
   "title_sidebar": "Contents",
   "toc_cell": false,
   "toc_position": {},
   "toc_section_display": true,
   "toc_window_display": false
  }
 },
 "nbformat": 4,
 "nbformat_minor": 5
}
